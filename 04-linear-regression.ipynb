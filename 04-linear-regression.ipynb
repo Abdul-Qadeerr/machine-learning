{
 "cells": [
  {
   "cell_type": "markdown", 
   "metadata": {},
   "source": [
    "# Linear Regression\n",
    "\n",
    "## Definition\n",
    "Linear regression is a supervised learning algorithm used to predict a **continuous value** based on one or more input features.\n",
    "\n",
    "## Key Idea\n",
    "It fits a straight line (or hyperplane in higher dimensions) to the data to minimize the difference between predicted and actual values.\n",
    "\n",
    "## Equation\n",
    "y = β0 + β1x1 + β2x2 + ... + βnxn + ε\n",
    "\n",
    "## Real-life Examples\n",
    "- Predicting house prices based on area, location, and number of rooms.\n",
    "- Estimating sales revenue from advertising spend.\n",
    "- Predicting student grades from study hours.\n"
   ]
  },
  {
   "cell_type": "code",
   "execution_count": null,
   "metadata": {},
   "outputs": [],
   "source": [
    "import numpy as np\n",
    "import pandas as pd\n",
    "from sklearn.linear_model import LinearRegression\n",
    "import matplotlib.pyplot as plt\n",
    "\n",
    "# Sample data (Study Hours vs Marks)\n",
    "X = np.array([1,2,3,4,5,6,7,8,9]).reshape(-1,1)\n",
    "y = np.array([35, 40, 50, 55, 65, 70, 75, 85, 90])\n",
    "\n",
    "# Train model\n",
    "model = LinearRegression()\n",
    "model.fit(X, y)\n",
    "\n",
    "print(\"Intercept:\", model.intercept_)\n",
    "print(\"Coefficient:\", model.coef_)\n",
    "\n",
    "# Prediction\n",
    "pred = model.predict(X)\n",
    "\n",
    "# Plot\n",
    "plt.scatter(X, y, color='blue')\n",
    "plt.plot(X, pred, color='red')\n",
    "plt.xlabel('Study Hours')\n",
    "plt.ylabel('Marks')\n",
    "plt.title('Linear Regression Example')\n",
    "plt.show()"
   ]
  }
 ],
 "metadata": {
  "kernelspec": {
   "display_name": "Python 3",
   "language": "python",
   "name": "python3"
  },
  "language_info": {
   "name": "python",
   "version": "3.10"
  }
 },
 "nbformat": 4,
 "nbformat_minor": 2
}
