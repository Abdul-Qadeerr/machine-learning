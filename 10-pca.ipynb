{
 "cells": [
  {
   "cell_type": "markdown",
   "metadata": {},
   "source": [
    "# Principal Component Analysis (PCA)\n",
    "\n",
    "## Definition\n",
    "PCA is a dimensionality reduction technique that transforms data into fewer dimensions while keeping maximum variance.\n",
    "\n",
    "## Real-life Examples\n",
    "- Reducing features in image recognition\n",
    "- Speeding up machine learning models\n",
    "- Visualizing high-dimensional data in 2D/3D\n"
   ]
  },
  {
   "cell_type": "code",
   "execution_count": null,
   "metadata": {},
   "outputs": [],
   "source": [
    "from sklearn.datasets import load_digits\n",
    "from sklearn.decomposition import PCA\n",
    "import matplotlib.pyplot as plt\n",
    "\n",
    "# Load dataset\n",
    "digits = load_digits()\n",
    "\n",
    "# Apply PCA\n",
    "pca = PCA(2)\n",
    "X_pca = pca.fit_transform(digits.data)\n",
    "\n",
    "# Plot\n",
    "plt.scatter(X_pca[:, 0], X_pca[:, 1], c=digits.target, cmap='tab10', alpha=0.7)\n",
    "plt.colorbar()\n",
    "plt.show()"
   ]
  }
 ]
}
