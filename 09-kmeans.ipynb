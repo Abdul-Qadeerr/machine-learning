{
 "cells": [
  {
   "cell_type": "markdown",
   "metadata": {},
   "source": [
    "# K-Means Clustering\n",
    "\n",
    "## Definition\n",
    "K-Means is an unsupervised learning algorithm that groups data into **K clusters** based on similarity.\n",
    "\n",
    "## Real-life Examples\n",
    "- Customer segmentation in marketing\n",
    "- Document clustering (grouping similar articles)\n",
    "- Image compression\n"
   ]
  },
  {
   "cell_type": "code",
   "execution_count": null,
   "metadata": {},
   "outputs": [],
   "source": [
    "from sklearn.datasets import make_blobs\n",
    "from sklearn.cluster import KMeans\n",
    "import matplotlib.pyplot as plt\n",
    "\n",
    "# Generate data\n",
    "X, _ = make_blobs(n_samples=300, centers=3, cluster_std=0.60, random_state=0)\n",
    "\n",
    "# Train KMeans\n",
    "kmeans = KMeans(n_clusters=3)\n",
    "kmeans.fit(X)\n",
    "y_kmeans = kmeans.predict(X)\n",
    "\n",
    "# Plot clusters\n",
    "plt.scatter(X[:, 0], X[:, 1], c=y_kmeans, cmap='viridis')\n",
    "centers = kmeans.cluster_centers_\n",
    "plt.scatter(centers[:, 0], centers[:, 1], c='red', s=200, alpha=0.75)\n",
    "plt.show()"
   ]
  }
 ]
}
