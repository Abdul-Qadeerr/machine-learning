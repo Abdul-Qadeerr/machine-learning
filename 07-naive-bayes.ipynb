{
 "cells": [
  {
   "cell_type": "markdown",
   "metadata": {},
   "source": [
    "# Naive Bayes\n",
    "\n",
    "## Definition\n",
    "Naive Bayes is a probabilistic classifier based on Bayes' theorem, assuming independence between features.\n",
    "\n",
    "## Real-life Examples\n",
    "- Spam email detection\n",
    "- Sentiment analysis (positive/negative reviews)\n",
    "- Document classification (news, blogs, categories)\n"
   ]
  },
  {
   "cell_type": "code",
   "execution_count": null,
   "metadata": {},
   "outputs": [],
   "source": [
    "from sklearn.datasets import fetch_20newsgroups\n",
    "from sklearn.feature_extraction.text import CountVectorizer\n",
    "from sklearn.naive_bayes import MultinomialNB\n",
    "from sklearn.metrics import accuracy_score\n",
    "\n",
    "# Load dataset\n",
    "data = fetch_20newsgroups(subset='train', categories=['sci.space','rec.sport.baseball'], shuffle=True, random_state=42)\n",
    "X_train, y_train = data.data, data.target\n",
    "test_data = fetch_20newsgroups(subset='test', categories=['sci.space','rec.sport.baseball'], shuffle=True, random_state=42)\n",
    "X_test, y_test = test_data.data, test_data.target\n",
    "\n",
    "# Vectorize text\n",
    "vectorizer = CountVectorizer()\n",
    "X_train_vec = vectorizer.fit_transform(X_train)\n",
    "X_test_vec = vectorizer.transform(X_test)\n",
    "\n",
    "# Train model\n",
    "model = MultinomialNB()\n",
    "model.fit(X_train_vec, y_train)\n",
    "y_pred = model.predict(X_test_vec)\n",
    "\n",
    "# Evaluate\n",
    "print(\"Accuracy:\", accuracy_score(y_test, y_pred))"
   ]
  }
 ]
}
