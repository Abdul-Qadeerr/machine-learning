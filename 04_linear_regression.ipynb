# Linear Regression

## Definition
Linear regression is a supervised learning algorithm used to predict a **continuous value** based on one or more input features.

## Key Idea
It fits a straight line (or hyperplane in higher dimensions) to the data to minimize the difference between predicted and actual values.

## Equation
y = β0 + β1x1 + β2x2 + ... + βnxn + ε  

## Real-life Examples
- Predicting house prices based on area, location, and number of rooms.  
- Estimating sales revenue from advertising spend.  
- Predicting student grades from study hours.
