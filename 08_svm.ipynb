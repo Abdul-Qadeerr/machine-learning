{
 "cells": [
  {
   "cell_type": "markdown", 
   "metadata": {},
   "source": [
    "# Support Vector Machine (SVM)\n",
    "\n",
    "## Definition\n",
    "SVM is a supervised learning algorithm that finds the best decision boundary (hyperplane) to separate classes.\n",
    "\n",
    "## Real-life Examples\n",
    "- Face detection\n",
    "- Handwriting recognition\n",
    "- Bioinformatics (classifying proteins, genes)\n"
   ]
  },
  {
   "cell_type": "code",
   "execution_count": null,
   "metadata": {},
   "outputs": [],
   "source": [
    "from sklearn import datasets\n",
    "from sklearn.model_selection import train_test_split\n",
    "from sklearn.svm import SVC\n",
    "from sklearn.metrics import accuracy_score\n",
    "\n",
    "# Load dataset\n",
    "X, y = datasets.load_iris(return_X_y=True)\n",
    "X_train, X_test, y_train, y_test = train_test_split(X, y, test_size=0.2, random_state=42)\n",
    "\n",
    "# Train SVM\n",
    "svm = SVC(kernel='linear')\n",
    "svm.fit(X_train, y_train)\n",
    "y_pred = svm.predict(X_test)\n",
    "\n",
    "# Evaluate\n",
    "print(\"Accuracy:\", accuracy_score(y_test, y_pred))"
   ]
  }
 ]
}
