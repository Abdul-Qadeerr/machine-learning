{
  "cells": [
    {
      "cell_type": "markdown",
      "metadata": {
        "id": "OkqhSI7qISRW"
      },
      "source": [
        "# Logistic Regression\n",
        "\n",
        "## Definition\n",
        "Logistic regression is a supervised learning algorithm used for **classification problems**.\n",
        "It predicts the probability that an instance belongs to a particular class.\n",
        "\n",
        "## Key Idea\n",
        "Instead of a straight line, it uses the **sigmoid function** to map predictions between 0 and 1.\n",
        "\n",
        "## Equation\n",
        "p = 1 / (1 + e^-(β0 + β1x1 + ... + βnxn))\n",
        "\n",
        "## Real-life Examples\n",
        "- Email spam detection (Spam / Not Spam).\n",
        "- Predicting if a patient has diabetes (Yes / No).\n",
        "- Credit card fraud detection.\n"
      ]
    },
    {
      "cell_type": "code",
      "execution_count": 1,
      "metadata": {
        "id": "bWEGeF_YISRd",
        "outputId": "7c52ba2e-19ff-4003-c930-417cb456a127",
        "colab": {
          "base_uri": "https://localhost:8080/"
        }
      },
      "outputs": [
        {
          "output_type": "stream",
          "name": "stdout",
          "text": [
            "              precision    recall  f1-score   support\n",
            "\n",
            "           0       1.00      1.00      1.00         1\n",
            "           1       1.00      1.00      1.00         2\n",
            "\n",
            "    accuracy                           1.00         3\n",
            "   macro avg       1.00      1.00      1.00         3\n",
            "weighted avg       1.00      1.00      1.00         3\n",
            "\n"
          ]
        }
      ],
      "source": [
        "import numpy as np\n",
        "import pandas as pd\n",
        "from sklearn.linear_model import LogisticRegression\n",
        "from sklearn.model_selection import train_test_split\n",
        "from sklearn.metrics import classification_report\n",
        "\n",
        "# Sample dataset (Hours Studied -> Pass/Fail)\n",
        "X = np.array([1,2,3,4,5,6,7,8,9]).reshape(-1,1)\n",
        "y = np.array([0,0,0,0,1,1,1,1,1])  # 0 = Fail, 1 = Pass\n",
        "\n",
        "# Split data\n",
        "X_train, X_test, y_train, y_test = train_test_split(X, y, test_size=0.3, random_state=42)\n",
        "\n",
        "# Train model\n",
        "model = LogisticRegression()\n",
        "model.fit(X_train, y_train)\n",
        "\n",
        "# Predictions\n",
        "y_pred = model.predict(X_test)\n",
        "print(classification_report(y_test, y_pred))"
      ]
    }
  ],
  "metadata": {
    "kernelspec": {
      "display_name": "Python 3",
      "language": "python",
      "name": "python3"
    },
    "language_info": {
      "name": "python",
      "version": "3.10"
    },
    "colab": {
      "provenance": []
    }
  },
  "nbformat": 4,
  "nbformat_minor": 0
}